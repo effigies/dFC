{
 "cells": [
  {
   "cell_type": "code",
   "execution_count": null,
   "metadata": {},
   "outputs": [],
   "source": [
    "import sys\n",
    "import numpy as np\n",
    "import time\n",
    "sys.path.append('./BIC_codes/')\n",
    "from functions.dFC_funcs import (\n",
    "    DATA_LOADER, \n",
    "    DFC_ANALYZER, \n",
    "    TR_intersection,\n",
    "    SIMILARITY_ASSESSMENT\n",
    ")\n"
   ]
  },
  {
   "attachments": {},
   "cell_type": "markdown",
   "metadata": {},
   "source": [
    "### Parameters "
   ]
  },
  {
   "attachments": {},
   "cell_type": "markdown",
   "metadata": {},
   "source": [
    "1. Set paths to the data folders and output folder, select data type, and the sessions of the data and networks that you want to include"
   ]
  },
  {
   "cell_type": "code",
   "execution_count": null,
   "metadata": {},
   "outputs": [],
   "source": [
    "output_root = './../../../../../RESULTs/methods_implementation/'\n",
    "\n",
    "params_data_load = { \\\n",
    "    'DATA_type': 'Gordon', \\\n",
    "    'SESSIONs':['Rest1_LR'], \\\n",
    "    'networks2include':['Auditory', 'CinguloOperc', 'Default', 'DorsalAttn', 'FrontoParietal',\n",
    "        'MedialParietal', 'ParietoOccip', 'SMhand', 'SMmouth',\n",
    "        'Salience', 'VentralAttn', 'Visual'], \\\n",
    "\n",
    "    'data_root_gordon': './sampleDATA/', \n",
    "    'data_root_ica': None \n",
    "}"
   ]
  },
  {
   "attachments": {},
   "cell_type": "markdown",
   "metadata": {},
   "source": [
    "2. Set the default parameter values for dFC assessment"
   ]
  },
  {
   "cell_type": "code",
   "execution_count": null,
   "metadata": {},
   "outputs": [],
   "source": [
    "params_methods = { \\\n",
    "    # Sliding Parameters\n",
    "    # W is in sec\n",
    "    'W': 44, 'n_overlap': 0.5, 'sw_method':'pear_corr', 'tapered_window':True, \\\n",
    "    # TIME_FREQ\n",
    "    'TF_method':'WTC', \\\n",
    "    # CLUSTERING AND DHMM\n",
    "    'clstr_base_measure':'SlidingWindow', \\\n",
    "    # HMM\n",
    "    'hmm_iter': 50, 'n_hid_states': 24, \\\n",
    "    # State Parameters\n",
    "    'n_states': 12, 'n_subj_clstrs': 20, \\\n",
    "    # Parallelization Parameters\n",
    "    'n_jobs': 2, 'verbose': 0, 'backend': 'loky', \\\n",
    "    # SESSION\n",
    "    'session': 'Rest1_LR', \\\n",
    "    # Hyper Parameters\n",
    "    'normalization': True, \\\n",
    "    'num_subj': 2, \\\n",
    "    'num_select_nodes': 96, \\\n",
    "    'num_time_point': 1200, \\\n",
    "    'Fs_ratio': 1.00, \\\n",
    "    'noise_ratio': 0.00, \\\n",
    "    'num_realization': 1 \\\n",
    "}"
   ]
  },
  {
   "attachments": {},
   "cell_type": "markdown",
   "metadata": {},
   "source": [
    "3. Specify the list of methods you want to include:"
   ]
  },
  {
   "cell_type": "code",
   "execution_count": null,
   "metadata": {},
   "outputs": [],
   "source": [
    "MEASURES_name_lst = [ \n",
    "                'SlidingWindow', \n",
    "                # 'Time-Freq', \n",
    "                # 'CAP', \n",
    "                # 'ContinuousHMM', \n",
    "                'Windowless', \n",
    "                # 'Clustering', \n",
    "                # 'DiscreteHMM' \n",
    "]"
   ]
  },
  {
   "attachments": {},
   "cell_type": "markdown",
   "metadata": {},
   "source": [
    "4. You may set a list of alternative values for each parameter"
   ]
  },
  {
   "cell_type": "code",
   "execution_count": null,
   "metadata": {},
   "outputs": [],
   "source": [
    "alter_hparams = { \n",
    "            'n_states': [6], \n",
    "}"
   ]
  },
  {
   "attachments": {},
   "cell_type": "markdown",
   "metadata": {},
   "source": [
    "5. Set parameter values for dFC Analyzer"
   ]
  },
  {
   "cell_type": "code",
   "execution_count": null,
   "metadata": {},
   "outputs": [],
   "source": [
    "params_dFC_analyzer = { \\\n",
    "    # Parallelization Parameters\n",
    "    'n_jobs': None, 'verbose': 0, 'backend': 'loky' \n",
    "}"
   ]
  },
  {
   "attachments": {},
   "cell_type": "markdown",
   "metadata": {},
   "source": [
    "### LOAD DATA"
   ]
  },
  {
   "attachments": {},
   "cell_type": "markdown",
   "metadata": {},
   "source": [
    "Creating Data Loader object and loading the data as a Time Series object"
   ]
  },
  {
   "cell_type": "code",
   "execution_count": null,
   "metadata": {},
   "outputs": [],
   "source": [
    "data_loader = DATA_LOADER(**params_data_load)\n",
    "BOLD = data_loader.load()"
   ]
  },
  {
   "attachments": {},
   "cell_type": "markdown",
   "metadata": {},
   "source": [
    "How the info dictionary of the loaded Time Series look like:"
   ]
  },
  {
   "cell_type": "code",
   "execution_count": null,
   "metadata": {},
   "outputs": [],
   "source": [
    "BOLD['Rest1_LR'].info"
   ]
  },
  {
   "attachments": {},
   "cell_type": "markdown",
   "metadata": {},
   "source": [
    "This is what the BOLD signals look like:"
   ]
  },
  {
   "cell_type": "code",
   "execution_count": null,
   "metadata": {},
   "outputs": [],
   "source": [
    "BOLD['Rest1_LR'].visualize(\n",
    "    start_time=0, end_time=1000, \n",
    "    nodes_lst=range(10), \n",
    ")"
   ]
  },
  {
   "attachments": {},
   "cell_type": "markdown",
   "metadata": {},
   "source": [
    "### Measures of dFC "
   ]
  },
  {
   "attachments": {},
   "cell_type": "markdown",
   "metadata": {},
   "source": [
    "1. Create dFC Multi-Analysis object:"
   ]
  },
  {
   "cell_type": "code",
   "execution_count": null,
   "metadata": {},
   "outputs": [],
   "source": [
    "dFC_analyzer = DFC_ANALYZER( \n",
    "    analysis_name='reproducibility assessment', \n",
    "    **params_dFC_analyzer \n",
    ")"
   ]
  },
  {
   "attachments": {},
   "cell_type": "markdown",
   "metadata": {},
   "source": [
    "2. Initialize the list of measures with the given hyperparameters"
   ]
  },
  {
   "cell_type": "code",
   "execution_count": null,
   "metadata": {},
   "outputs": [],
   "source": [
    "MEASURES_lst = dFC_analyzer.measures_initializer( \n",
    "    MEASURES_name_lst, \n",
    "    params_methods, \n",
    "    alter_hparams \n",
    ")"
   ]
  },
  {
   "attachments": {},
   "cell_type": "markdown",
   "metadata": {},
   "source": [
    "There are one instance of SlidingWindow, and two instances of Window-less, one with 12 states and the other one with 6 states."
   ]
  },
  {
   "cell_type": "code",
   "execution_count": null,
   "metadata": {},
   "outputs": [],
   "source": [
    "print(MEASURES_lst)"
   ]
  },
  {
   "attachments": {},
   "cell_type": "markdown",
   "metadata": {},
   "source": [
    "### estimate FC states"
   ]
  },
  {
   "attachments": {},
   "cell_type": "markdown",
   "metadata": {},
   "source": [
    "Run FCS estimation for state-based methods only and collect them in MEASURES_fit_lst"
   ]
  },
  {
   "cell_type": "code",
   "execution_count": null,
   "metadata": {},
   "outputs": [],
   "source": [
    "tic = time.time()\n",
    "print('Measurement Started ...')\n",
    "\n",
    "MEASURES_fit_lst = list()\n",
    "for measure in MEASURES_lst:\n",
    "\n",
    "    time_series = BOLD[measure.params['session']]\n",
    "    if measure.is_state_based:\n",
    "        measure.estimate_FCS(time_series=time_series)\n",
    "    MEASURES_fit_lst.append(measure)\n",
    "            \n",
    "print('Measurement required %0.3f seconds.' % (time.time() - tic, ))\n",
    "\n",
    "dFC_analyzer.set_MEASURES_fit_lst(MEASURES_fit_lst)"
   ]
  },
  {
   "attachments": {},
   "cell_type": "markdown",
   "metadata": {},
   "source": [
    "How info dictionary of a measure looks like (e.g. for the SlidingWindow object):"
   ]
  },
  {
   "cell_type": "code",
   "execution_count": null,
   "metadata": {},
   "outputs": [],
   "source": [
    "MEASURES_fit_lst[0].info"
   ]
  },
  {
   "attachments": {},
   "cell_type": "markdown",
   "metadata": {},
   "source": [
    "### dFC assessment"
   ]
  },
  {
   "attachments": {},
   "cell_type": "markdown",
   "metadata": {},
   "source": [
    "Assess each subject's dFC using the fitted measure objects:"
   ]
  },
  {
   "cell_type": "code",
   "execution_count": null,
   "metadata": {},
   "outputs": [],
   "source": [
    "tic = time.time()\n",
    "print('Measurement Started ...')\n",
    "\n",
    "print(\"dFCM estimation started...\")\n",
    "\n",
    "SUBJ_dFCM_dict = {}\n",
    "for subj in range(dFC_analyzer.params_methods['num_subj']):\n",
    "    subj_id = data_loader.SUBJECTS[subj]\n",
    "    BOLD = data_loader.load(subj_id2load=subj_id)\n",
    "    dFCM_dict = dFC_analyzer.subj_lvl_dFC_assess(time_series_dict=BOLD)\n",
    "    SUBJ_dFCM_dict[subj_id] = dFCM_dict\n",
    "\n",
    "print(\"dFCM estimation done.\")\n",
    "\n",
    "print('Measurement required %0.3f seconds.' % (time.time() - tic, ))"
   ]
  },
  {
   "attachments": {},
   "cell_type": "markdown",
   "metadata": {},
   "source": [
    "VISUALIZE dFC"
   ]
  },
  {
   "attachments": {},
   "cell_type": "markdown",
   "metadata": {},
   "source": [
    "You may filter the dFCMs you want to visualize by specifying values of parameters in param_dict:"
   ]
  },
  {
   "cell_type": "code",
   "execution_count": null,
   "metadata": {},
   "outputs": [],
   "source": [
    "dFCM_lst = SUBJ_dFCM_dict[subj_id]['dFCM_lst']"
   ]
  },
  {
   "attachments": {},
   "cell_type": "markdown",
   "metadata": {},
   "source": [
    "Visualize a sample interval of assessed dFC using different measures:"
   ]
  },
  {
   "cell_type": "code",
   "execution_count": null,
   "metadata": {},
   "outputs": [],
   "source": [
    "TRs = TR_intersection(dFCM_lst)\n",
    "chosen_TRs = TRs[10:20]\n",
    "\n",
    "for dFCM in dFCM_lst:\n",
    "    print(dFCM.measure.measure_name)\n",
    "    dFCM.visualize_dFC(TRs=chosen_TRs, normalize=False, fix_lim=False)"
   ]
  },
  {
   "attachments": {},
   "cell_type": "markdown",
   "metadata": {},
   "source": [
    "### Similarity assessment"
   ]
  },
  {
   "cell_type": "code",
   "execution_count": null,
   "metadata": {},
   "outputs": [],
   "source": [
    "similarity_assessment = SIMILARITY_ASSESSMENT(dFCM_lst=dFCM_lst)\n",
    "\n",
    "tic = time.time()\n",
    "print('Measurement Started ...')\n",
    "\n",
    "print(\"Similarity measurement started...\")\n",
    "SUBJ_output = similarity_assessment.run(FILTERS=dFC_analyzer.hyper_param_info, downsampling_method='default')\n",
    "print(\"Similarity measurement done.\")\n",
    "\n",
    "print('Measurement required %0.3f seconds.' % (time.time() - tic, ))"
   ]
  },
  {
   "attachments": {},
   "cell_type": "markdown",
   "metadata": {},
   "source": [
    "This is what similarity results of each subject contain:"
   ]
  },
  {
   "cell_type": "code",
   "execution_count": null,
   "metadata": {},
   "outputs": [],
   "source": [
    "print(SUBJ_output.keys())\n",
    "print(SUBJ_output['default_values'].keys())"
   ]
  },
  {
   "attachments": {},
   "cell_type": "markdown",
   "metadata": {},
   "source": [
    "### Post Analysis"
   ]
  },
  {
   "attachments": {},
   "cell_type": "markdown",
   "metadata": {},
   "source": [
    "1. Create a dictionary containing RESULTS to be visualized"
   ]
  },
  {
   "cell_type": "code",
   "execution_count": null,
   "metadata": {},
   "outputs": [],
   "source": [
    "metric = 'spearman'\n",
    "filter = 'default_values'\n",
    "\n",
    "similarity_mat = np.squeeze(SUBJ_output[filter]['all'][metric])\n",
    "methods_names = [measure.measure_name for measure in SUBJ_output[filter]['measure_lst']]\n",
    "RESULTS = {'session1_LR':{\n",
    "                        'similarity_mat':similarity_mat,\n",
    "                        'methods_names':methods_names\n",
    "            }\n",
    "}"
   ]
  },
  {
   "attachments": {},
   "cell_type": "markdown",
   "metadata": {},
   "source": [
    "2. VISUALIZE Similarity results"
   ]
  },
  {
   "cell_type": "code",
   "execution_count": null,
   "metadata": {},
   "outputs": [],
   "source": [
    "from functions.post_analysis_funcs import visualize_sim_mat\n",
    "\n",
    "visualize_sim_mat(RESULTS, \n",
    "                    mat_key='similarity_mat', \n",
    "                    name_lst_key='methods_names', \n",
    "                    cmap='viridis',\n",
    ")"
   ]
  }
 ],
 "metadata": {
  "interpreter": {
   "hash": "f8e49850a1a6416bca0c5ca8fdfdd3ef54331a618eb3900ee04e4d78c78c3402"
  },
  "kernelspec": {
   "display_name": "Python 3.8.5 ('neuro')",
   "language": "python",
   "name": "python3"
  },
  "language_info": {
   "codemirror_mode": {
    "name": "ipython",
    "version": 3
   },
   "file_extension": ".py",
   "mimetype": "text/x-python",
   "name": "python",
   "nbconvert_exporter": "python",
   "pygments_lexer": "ipython3",
   "version": "3.8.5"
  },
  "orig_nbformat": 4
 },
 "nbformat": 4,
 "nbformat_minor": 2
}
